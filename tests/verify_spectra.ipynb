{
 "cells": [
  {
   "cell_type": "code",
   "execution_count": null,
   "metadata": {},
   "outputs": [],
   "source": [
    "from tsi_toolkit import *\n",
    "import tsi_toolkit as tsi\n",
    "import numpy as np\n",
    "import matplotlib.pyplot as plt\n",
    "from pylag import *\n",
    "import pylag\n",
    "%load_ext autoreload\n",
    "%autoreload 2"
   ]
  },
  {
   "cell_type": "code",
   "execution_count": null,
   "metadata": {},
   "outputs": [],
   "source": [
    "def generate_time_series_with_power_spectrum(power_spectrum_func, duration, sampling_rate):\n",
    "    n_points = int(duration * sampling_rate)\n",
    "    dt = 1 / sampling_rate\n",
    "\n",
    "    freqs = np.fft.fftfreq(n_points, d=dt)\n",
    "    freqs = np.fft.fftshift(freqs)  # Shift zero frequency to the center\n",
    "    positive_freqs = freqs[freqs >= 0]\n",
    "\n",
    "    psd = power_spectrum_func(positive_freqs) \n",
    "    amplitudes = np.sqrt(psd)\n",
    "    random_phases = np.exp(1j * 2 * np.pi * np.random.rand(len(amplitudes)))\n",
    "    positive_fft = amplitudes * random_phases\n",
    "\n",
    "    full_fft = np.zeros_like(freqs, dtype=complex)\n",
    "    full_fft[freqs >= 0] = positive_fft\n",
    "    full_fft[freqs < 0] = np.conj(positive_fft[::-1])\n",
    "\n",
    "    time_series = np.fft.ifft(np.fft.ifftshift(full_fft)).real\n",
    "    time = np.arange(0, duration, dt)\n",
    "    fft = np.fft.fftshift(np.fft.fft(time_series))\n",
    "    power_spectrum = np.abs(fft) ** 2\n",
    "\n",
    "    return time, time_series+0.1, freqs, fft, power_spectrum\n",
    "\n",
    "def example_power_spectrum(freqs):\n",
    "    psd = 1 / (freqs ** 2 + 1)\n",
    "    return psd\n",
    "\n",
    "def example_power_spectrum_2(freqs):\n",
    "    psd = 1 / (freqs ** 1.5 + 1)\n",
    "    return psd\n",
    "\n",
    "# Generate time series\n",
    "duration = 10\n",
    "sampling_rate = 100 \n",
    "time, time_series, freqs, fft, power_spectrum = generate_time_series_with_power_spectrum(example_power_spectrum, duration, sampling_rate)\n",
    "\n",
    "plt.figure(figsize=(12, 6))\n",
    "plt.subplot(2, 1, 1)\n",
    "plt.plot(time, time_series)\n",
    "plt.title(\"Time Series\")\n",
    "plt.xlabel(\"Time\")\n",
    "plt.ylabel(\"Amplitude\")\n",
    "\n",
    "plt.subplot(2, 1, 2)\n",
    "plt.scatter(freqs[freqs >= 0], power_spectrum[freqs >= 0])\n",
    "plt.title(\"Power Spectrum\")\n",
    "plt.xlabel(\"Frequency\")\n",
    "plt.ylabel(\"Power\")\n",
    "plt.xscale(\"log\")\n",
    "plt.yscale(\"log\")\n",
    "plt.tight_layout()\n",
    "plt.show()"
   ]
  },
  {
   "cell_type": "code",
   "execution_count": null,
   "metadata": {},
   "outputs": [],
   "source": [
    "# verify psd\n",
    "power_spectrum_tsi = PowerSpectrum(times=time, values=time_series, norm=False)\n",
    "\n",
    "# Check if power_spectrum_tsi.powers agrees with power_spectrum[freqs >= 0]\n",
    "assert np.allclose(power_spectrum_tsi.powers, power_spectrum[freqs > 0]), \"The power spectra do not match!\"\n",
    "\n",
    "lc_pylag = pylag.LightCurve(t=time, r=time_series)\n",
    "power_spectrum_pylag = pylag.Periodogram(lc=lc_pylag, norm=False)\n",
    "\n",
    "plt.scatter(power_spectrum_tsi.freqs, \n",
    "           power_spectrum_tsi.powers, label='tsi_toolkit',s=2)\n",
    "plt.scatter(freqs[freqs >= 0], power_spectrum[freqs >= 0], label='Known',s=2)\n",
    "plt.scatter(power_spectrum_pylag.freq, \n",
    "           power_spectrum_pylag.periodogram, label='pylag',s=2)\n",
    "plt.legend()\n",
    "plt.xscale('log')\n",
    "plt.yscale('log')"
   ]
  },
  {
   "cell_type": "code",
   "execution_count": null,
   "metadata": {},
   "outputs": [],
   "source": [
    "# verify cross spectrum\n",
    "time2, time_series2, freqs2, fft2, power_spectrum2 = generate_time_series_with_power_spectrum(example_power_spectrum_2, duration, sampling_rate)\n",
    "true_cross_spectrum = np.conj(fft) * fft2\n",
    "cross_spectrum_tsi = tsi.CrossSpectrum(times1=time, values1=time_series, times2=time2, values2=time_series2, norm=False)\n",
    "\n",
    "plt.scatter(cross_spectrum_tsi.freqs, \n",
    "            cross_spectrum_tsi.cs, label='tsi_toolkit',s=2)\n",
    "plt.scatter(freqs[freqs >= 0], true_cross_spectrum[freqs >= 0], label='Known',s=2)\n",
    "plt.legend()\n",
    "plt.xscale('log')\n",
    "plt.yscale('log')"
   ]
  },
  {
   "cell_type": "code",
   "execution_count": null,
   "metadata": {},
   "outputs": [],
   "source": [
    "# verify lag frequency spectrum\n",
    "true_lag_spectrum = np.angle(true_cross_spectrum) / (2 * np.pi * freqs)\n",
    "lag_spectrum_tsi = tsi.LagFrequencySpectrum(\n",
    "    times1=time, values1=time_series, times2=time2, values2=time_series2, subtract_coh_bias=False\n",
    "    )\n",
    "\n",
    "plt.scatter(lag_spectrum_tsi.freqs, lag_spectrum_tsi.lags, label='tsi_toolkit',s=2)\n",
    "plt.scatter(freqs[freqs >= 0], true_lag_spectrum[freqs >= 0], label='Known',s=2)\n",
    "plt.legend()\n",
    "plt.xscale('log')"
   ]
  }
 ],
 "metadata": {
  "kernelspec": {
   "display_name": "Python 3",
   "language": "python",
   "name": "python3"
  },
  "language_info": {
   "codemirror_mode": {
    "name": "ipython",
    "version": 3
   },
   "file_extension": ".py",
   "mimetype": "text/x-python",
   "name": "python",
   "nbconvert_exporter": "python",
   "pygments_lexer": "ipython3",
   "version": "3.12.3"
  }
 },
 "nbformat": 4,
 "nbformat_minor": 2
}
