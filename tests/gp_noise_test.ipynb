{
 "cells": [
  {
   "cell_type": "markdown",
   "metadata": {},
   "source": [
    "# GP Noise Test\n",
    "This notebook simulates a light curve using `SimulateLightCurve`, fits Gaussian Processes with and without errors,\n",
    "and compares the inferred white noise level to the PSD flattening and Poisson stats."
   ]
  },
  {
   "cell_type": "code",
   "execution_count": 1,
   "metadata": {},
   "outputs": [],
   "source": [
    "import numpy as np\n",
    "import matplotlib.pyplot as plt\n",
    "from stela_toolkit.data_simulator import SimulateLightCurve\n",
    "from stela_toolkit.gaussian_process import GaussianProcess\n",
    "from stela_toolkit.power_spectrum import PowerSpectrum"
   ]
  },
  {
   "cell_type": "code",
   "execution_count": null,
   "metadata": {},
   "outputs": [],
   "source": [
    "dt = 10.0\n",
    "n_points = 1000\n",
    "time_grid = np.arange(0, n_points * dt, dt)\n",
    "\n",
    "lc_with_errors = SimulateLightCurve(\n",
    "    time_grid=time_grid,\n",
    "    psd_type=\"powerlaw\",\n",
    "    psd_params={\"slope\": 2.0, \"plnorm\": 1.0},\n",
    "    mean=10.0,\n",
    "    std=2.0,\n",
    "    add_noise=True,\n",
    ")\n",
    "\n",
    "lc_without_errors = SimulateLightCurve(\n",
    "    time_grid=time_grid,\n",
    "    psd_type=\"powerlaw\",\n",
    "    psd_params={\"slope\": 2.0, \"plnorm\": 1.0},\n",
    "    mean=10.0,\n",
    "    std=2.0,\n",
    "    add_noise=False\n",
    ")"
   ]
  },
  {
   "cell_type": "code",
   "execution_count": null,
   "metadata": {},
   "outputs": [],
   "source": [
    "# fit GP with errors (FixedNoiseLikelihood)\n",
    "gp_with_errors = GaussianProcess(\n",
    "    lightcurve=lc_with_errors.simlc,\n",
    "    kernel_form='RBF',\n",
    "    run_training=True,\n",
    "    num_iter=1000,\n",
    "    learn_rate=0.01,\n",
    "    white_noise=True,\n",
    "    verbose=False\n",
    ")"
   ]
  },
  {
   "cell_type": "code",
   "execution_count": null,
   "metadata": {},
   "outputs": [
    {
     "name": "stderr",
     "output_type": "stream",
     "text": [
      "/home/clewin/.local/lib/python3.12/site-packages/gpytorch/likelihoods/noise_models.py:150: NumericalWarning: Very small noise values detected. This will likely lead to numerical instabilities. Rounding small noise values up to 0.0001.\n",
      "  warnings.warn(\n"
     ]
    }
   ],
   "source": [
    "# fit GP without errors (GaussianLikelihood)\n",
    "gp_without_errors = GaussianProcess(\n",
    "    lightcurve=lc_without_errors.simlc,\n",
    "    kernel_form='RBF',\n",
    "    run_training=True,\n",
    "    num_iter=1000,\n",
    "    learn_rate=0.01,\n",
    "    white_noise=True,\n",
    "    verbose=False\n",
    ")"
   ]
  },
  {
   "cell_type": "code",
   "execution_count": null,
   "metadata": {},
   "outputs": [],
   "source": [
    "# compute power spectra, need to renormalize to absolute units, not RMS norm (as in code)\n",
    "dt = lc_with_errors.simlc.times[1] - lc_with_errors.simlc.times[0]\n",
    "n = len(lc_with_errors.simlc.rates)\n",
    "\n",
    "psd_with = PowerSpectrum(lightcurve_or_model=lc_with_errors.simlc, num_bins=10, bin_type='log', norm=False)\n",
    "psd_with_abs = psd_with.powers / (n / (2 * dt))\n",
    "\n",
    "psd_without = PowerSpectrum(lightcurve_or_model=lc_without_errors.simlc, num_bins=10, bin_type='log', norm=False)\n",
    "psd_without_abs = psd_without.powers / (n / (2 * dt))"
   ]
  },
  {
   "cell_type": "code",
   "execution_count": null,
   "id": "e18b7bd2",
   "metadata": {},
   "outputs": [
    {
     "name": "stdout",
     "output_type": "stream",
     "text": [
      "\n",
      "=== GP Noise Comparison (Using Manual PSD Normalization):===\n",
      "- Sampling interval (dt):        10.000\n",
      "Mean rate (mu):                9.932\n",
      "PSD flattening level:          4.8468e+01\n",
      "Implied noise from PSD:        4.8468e+01\n",
      "Mean(errors^2):                9.9319e-01\n",
      "GP noise (no errors, scaled):  5.9715e+01\n",
      "GP extra noise (with errors):  4.9244e+01\n"
     ]
    }
   ],
   "source": [
    "mu = lc_with_errors.simlc.mean\n",
    "errors = lc_with_errors.simlc.errors\n",
    "\n",
    "# GP params\n",
    "param_errors = gp_with_errors.get_hyperparameters()\n",
    "extra_noise = param_errors['likelihood.second_noise_covar.noise']\n",
    "param_noerrors = gp_without_errors.get_hyperparameters()\n",
    "learned_gp_noise = param_noerrors['likelihood.second_noise_covar.noise']\n",
    "\n",
    "# noise estimate (flattening level, and from errors)\n",
    "psd_flat_level = np.mean(psd_with_abs[-3:])  # adjust bin count as needed\n",
    "expected_noise_from_psd = psd_flat_level\n",
    "expected_noise_from_errors = np.mean(errors**2)\n",
    "\n",
    "rescaled_gp_noise = learned_gp_noise * mu**2\n",
    "rescaled_extra_noise = extra_noise * mu**2\n",
    "\n",
    "print(\"\\n=== GP Noise Comparison (Using Manual PSD Normalization):===\")\n",
    "print(f\"Sampling interval (dt):         {dt:.3f}\")\n",
    "print(f\"Mean rate (mu):                 {mu:.3f}\")\n",
    "print(f\"PSD flattening level:           {psd_flat_level:.4e}\")\n",
    "print(f\"Implied noise from PSD:         {expected_noise_from_psd:.4e}\")\n",
    "print(f\"Mean(errors^2):                 {expected_noise_from_errors:.4e}\")\n",
    "print(f\"GP noise (no errors, scaled):   {rescaled_gp_noise:.4e}\")\n",
    "print(f\"GP noise (with errors):   rescaled_extra_noise:.4e}\")"
   ]
  }
 ],
 "metadata": {
  "kernelspec": {
   "display_name": "Python 3",
   "language": "python",
   "name": "python3"
  },
  "language_info": {
   "codemirror_mode": {
    "name": "ipython",
    "version": 3
   },
   "file_extension": ".py",
   "mimetype": "text/x-python",
   "name": "python",
   "nbconvert_exporter": "python",
   "pygments_lexer": "ipython3",
   "version": "3.12.3"
  }
 },
 "nbformat": 4,
 "nbformat_minor": 5
}
