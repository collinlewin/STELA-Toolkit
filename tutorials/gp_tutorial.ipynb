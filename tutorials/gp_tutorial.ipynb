{
 "cells": [
  {
   "cell_type": "markdown",
   "metadata": {},
   "source": [
    "### **Welcome to the TSI-Toolkit!**\n",
    "The **goal of this tutorial** is to familiarize the user with using tsi-toolkit to import their time series data, to create and compare models that aim to capture the variablity in their data, and apply models to make predictions of the time series at new, previously unobserved data points, either in the future (forecasting) or between observed values (interpolation). \n",
    "\n",
    "This package was designed to be convenient and intuitive, regardless of your background in Python and machine learning. I deeply appreciate those who voice their frustrations, whether about bugs or how this package could better serve you. Please feel free to open a new issue post in the [Github Repo's Issue Page](https://github.com/collinlewin/tsi-toolkit/issues), or by emailing me, Collin Lewin (clewin@mit.edu).\n",
    "\n",
    "##### *In this tutorial, we will learn how to...*\n",
    "1. Importing, cleaning, and plotting time series data\n",
    "2. The basics of modeling data with Gaussian processes (GPs)\n",
    "3. How to train a GP using our data and select between GP models\n",
    "4. Predicting values of the time series at new times (interpolation or forecasting)\n",
    "5. Generate a slew of powerful products for gaining insight on the data."
   ]
  },
  {
   "cell_type": "code",
   "execution_count": null,
   "metadata": {},
   "outputs": [],
   "source": [
    "%load_ext autoreload\n",
    "%autoreload 2\n",
    "\n",
    "from tsi_toolkit.data_loader import TimeSeries\n",
    "from tsi_toolkit.gaussian_process import GaussianProcess\n",
    "from tsi_toolkit.preprocessing import Preprocessing\n",
    "from tsi_toolkit.power_spectrum import PowerSpectrum\n",
    "\n",
    "import numpy as np\n",
    "import matplotlib.pyplot as plt"
   ]
  },
  {
   "cell_type": "markdown",
   "metadata": {},
   "source": []
  },
  {
   "cell_type": "code",
   "execution_count": null,
   "metadata": {},
   "outputs": [],
   "source": [
    " ### Import data\n",
    "\n",
    "# Import from file directly\n",
    "#desktop\n",
    "file_path = '/home/clewin/projects/tsi-toolkit/data/'\n",
    "#laptop\n",
    "#file_path = '/Users/collinlewin/Research/tsi-toolkit/data/'\n",
    "lightcurve = TimeSeries(file_path = f'{file_path}NGC5548_U_swift.dat')\n",
    "\n",
    "# Import from array\n",
    "data = np.genfromtxt(f'{file_path}NGC5548_X_swift.dat')\n",
    "lightcurve = TimeSeries(times=data[:,0], values=data[:,1], errors=data[:,2])\n",
    "lightcurve.plot()\n",
    "\n",
    "# Plot with custom arguments\n",
    "# the U-band is around 3500 angstroms, and ultraviolet, so let's make the plot violet\n",
    "lightcurve.plot(figsize=(8,4),\n",
    "                xlabel='Modified Heliocentric Julian Date (Days)', \n",
    "                ylabel='Flux',\n",
    "                xlim = (lightcurve.times[0], lightcurve.times[-1]),\n",
    "                title='NGC 5548 U-band Lightcurve',\n",
    "                fig_kwargs={'linewidth':28},\n",
    "                plot_kwargs={'color':'purple', 'fmt':'o', 'lw':1, 'ms':3},\n",
    "                major_tick_kwargs={'direction':'in', 'top':True, 'right':True, 'length':6, 'width':1},\n",
    "                minor_tick_kwargs={'direction':'in', 'top':True, 'right':True, 'length':3, 'width':0.5},\n",
    "                )"
   ]
  },
  {
   "cell_type": "markdown",
   "metadata": {},
   "source": []
  },
  {
   "cell_type": "code",
   "execution_count": null,
   "metadata": {},
   "outputs": [],
   "source": [
    "# Preprocess the data\n",
    "Preprocessing.remove_nans(lightcurve)\n",
    "Preprocessing.remove_outliers(lightcurve, threshold=1.5, rolling_window=10, plot=True, verbose=True, save=False)\n",
    "Preprocessing.remove_outliers(lightcurve, threshold=1.5, rolling_window=50, plot=True, verbose=True, save=False)\n",
    "Preprocessing.remove_outliers(lightcurve, threshold=1.5, rolling_window=None, plot=True, verbose=True, save=True)\n",
    "\n",
    "Preprocessing.trim_time_segment(lightcurve, end_time=56815, plot=True, save=False)\n",
    "Preprocessing.polynomial_detrend(lightcurve, degree=3, plot=True, save=False)\n",
    "Preprocessing.standardize(lightcurve)"
   ]
  },
  {
   "cell_type": "markdown",
   "metadata": {},
   "source": []
  },
  {
   "cell_type": "code",
   "execution_count": null,
   "metadata": {},
   "outputs": [],
   "source": [
    "# verbose shows the progress of the optimization\n",
    "gp_model = GaussianProcess(timeseries=lightcurve,\n",
    "                 kernel_form='Matern12', white_noise=True, train_iter=1000, verbose=True)\n",
    "\n",
    "# non verbose\n",
    "gp_model = GaussianProcess(timeseries=lightcurve,\n",
    "                 kernel_form='Matern12', white_noise=True, train_iter=1000, verbose=False)\n",
    "gp_model.get_hyperparameters()\n",
    "gp_model.akaike_inf_crit()\n",
    "\n",
    "gp_model.plot()"
   ]
  },
  {
   "cell_type": "markdown",
   "metadata": {},
   "source": []
  },
  {
   "cell_type": "code",
   "execution_count": null,
   "metadata": {},
   "outputs": [],
   "source": [
    "gp_model = GaussianProcess(timeseries=lightcurve,\n",
    "                 kernel_form='auto', white_noise=True, train_iter=1000, verbose=True)"
   ]
  },
  {
   "cell_type": "markdown",
   "metadata": {},
   "source": []
  },
  {
   "cell_type": "code",
   "execution_count": null,
   "metadata": {},
   "outputs": [],
   "source": [
    "print(gp_model.get_hyperparameters())\n",
    "print(gp_model.akaike_inf_crit())\n",
    "print(lightcurve.unstandard_mean)\n",
    "\n",
    "#gp_model.save_model('gp_model.pkl')\n",
    "#gp_model.load_model('gp_model.pkl')"
   ]
  },
  {
   "cell_type": "markdown",
   "metadata": {},
   "source": []
  },
  {
   "cell_type": "code",
   "execution_count": null,
   "metadata": {},
   "outputs": [],
   "source": [
    "prediction_times = np.linspace(lightcurve.times[0], lightcurve.times[-1], 1000)\n",
    "samples = gp_model.sample(prediction_times, num_samples=1000)"
   ]
  },
  {
   "cell_type": "code",
   "execution_count": null,
   "metadata": {},
   "outputs": [],
   "source": [
    "power_spectrum = PowerSpectrum(times=prediction_times, values=samples, norm=True)\n",
    "power_spectrum.plot()\n",
    "power_spectrum.bin(20, save=False, plot=True)"
   ]
  },
  {
   "cell_type": "code",
   "execution_count": null,
   "metadata": {},
   "outputs": [],
   "source": []
  }
 ],
 "metadata": {
  "kernelspec": {
   "display_name": "Python 3",
   "language": "python",
   "name": "python3"
  },
  "language_info": {
   "codemirror_mode": {
    "name": "ipython",
    "version": 3
   },
   "file_extension": ".py",
   "mimetype": "text/x-python",
   "name": "python",
   "nbconvert_exporter": "python",
   "pygments_lexer": "ipython3",
   "version": "3.12.3"
  }
 },
 "nbformat": 4,
 "nbformat_minor": 2
}
